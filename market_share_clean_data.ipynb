{
 "cells": [
  {
   "cell_type": "code",
   "execution_count": 14,
   "metadata": {},
   "outputs": [],
   "source": [
    "# Python SQL toolkit and Object Relational Mapper\n",
    "import sqlalchemy\n",
    "from sqlalchemy import create_engine, MetaData\n",
    "from sqlalchemy.ext.declarative import declarative_base\n",
    "from sqlalchemy import Column, Integer, String, Numeric, Text, Float\n",
    "from sqlalchemy.ext.automap import automap_base\n",
    "from sqlalchemy.orm import Session\n",
    "from sqlalchemy import create_engine, func\n",
    "import pandas as pd"
   ]
  },
  {
   "cell_type": "code",
   "execution_count": 15,
   "metadata": {},
   "outputs": [],
   "source": [
    "top_100 = pd.read_csv(\"dataset/top_100_movies.csv\")\n",
    "market_share = pd.read_csv(\"dataset/market_share.csv\")"
   ]
  },
  {
   "cell_type": "code",
   "execution_count": 16,
   "metadata": {},
   "outputs": [
    {
     "data": {
      "text/html": [
       "<div>\n",
       "<style scoped>\n",
       "    .dataframe tbody tr th:only-of-type {\n",
       "        vertical-align: middle;\n",
       "    }\n",
       "\n",
       "    .dataframe tbody tr th {\n",
       "        vertical-align: top;\n",
       "    }\n",
       "\n",
       "    .dataframe thead th {\n",
       "        text-align: right;\n",
       "    }\n",
       "</style>\n",
       "<table border=\"1\" class=\"dataframe\">\n",
       "  <thead>\n",
       "    <tr style=\"text-align: right;\">\n",
       "      <th></th>\n",
       "      <th>Unnamed: 0</th>\n",
       "      <th>Rank</th>\n",
       "      <th>Title</th>\n",
       "      <th>Studio</th>\n",
       "      <th>Total Gross</th>\n",
       "      <th>Theaters</th>\n",
       "      <th>Opening</th>\n",
       "      <th>Opening Theaters</th>\n",
       "      <th>Year</th>\n",
       "      <th>link</th>\n",
       "    </tr>\n",
       "  </thead>\n",
       "  <tbody>\n",
       "    <tr>\n",
       "      <th>0</th>\n",
       "      <td>0</td>\n",
       "      <td>1</td>\n",
       "      <td>Home Alone</td>\n",
       "      <td>Fox</td>\n",
       "      <td>$285,761,243</td>\n",
       "      <td>2,173</td>\n",
       "      <td>$17,081,997</td>\n",
       "      <td>1,202</td>\n",
       "      <td>1990</td>\n",
       "      <td>/movies/?id=homealone.htm</td>\n",
       "    </tr>\n",
       "    <tr>\n",
       "      <th>1</th>\n",
       "      <td>0</td>\n",
       "      <td>2</td>\n",
       "      <td>Ghost</td>\n",
       "      <td>Par.</td>\n",
       "      <td>$217,631,306</td>\n",
       "      <td>1,766</td>\n",
       "      <td>$12,191,540</td>\n",
       "      <td>1,101</td>\n",
       "      <td>1990</td>\n",
       "      <td>/movies/?id=ghost.htm</td>\n",
       "    </tr>\n",
       "    <tr>\n",
       "      <th>2</th>\n",
       "      <td>0</td>\n",
       "      <td>3</td>\n",
       "      <td>Dances with Wolves</td>\n",
       "      <td>Orion</td>\n",
       "      <td>$184,208,848</td>\n",
       "      <td>1,636</td>\n",
       "      <td>$598,257</td>\n",
       "      <td>14</td>\n",
       "      <td>1990</td>\n",
       "      <td>/movies/?id=danceswithwolves.htm</td>\n",
       "    </tr>\n",
       "    <tr>\n",
       "      <th>3</th>\n",
       "      <td>0</td>\n",
       "      <td>4</td>\n",
       "      <td>Pretty Woman</td>\n",
       "      <td>BV</td>\n",
       "      <td>$178,406,268</td>\n",
       "      <td>1,811</td>\n",
       "      <td>$11,280,591</td>\n",
       "      <td>1,325</td>\n",
       "      <td>1990</td>\n",
       "      <td>/movies/?id=prettywoman.htm</td>\n",
       "    </tr>\n",
       "    <tr>\n",
       "      <th>4</th>\n",
       "      <td>0</td>\n",
       "      <td>5</td>\n",
       "      <td>Teenage Mutant Ninja Turtles</td>\n",
       "      <td>NL</td>\n",
       "      <td>$135,265,915</td>\n",
       "      <td>2,377</td>\n",
       "      <td>$25,398,367</td>\n",
       "      <td>2,006</td>\n",
       "      <td>1990</td>\n",
       "      <td>/movies/?id=teenagemutantninjaturtles.htm</td>\n",
       "    </tr>\n",
       "  </tbody>\n",
       "</table>\n",
       "</div>"
      ],
      "text/plain": [
       "   Unnamed: 0  Rank                         Title Studio   Total Gross  \\\n",
       "0           0     1                    Home Alone    Fox  $285,761,243   \n",
       "1           0     2                         Ghost   Par.  $217,631,306   \n",
       "2           0     3            Dances with Wolves  Orion  $184,208,848   \n",
       "3           0     4                  Pretty Woman     BV  $178,406,268   \n",
       "4           0     5  Teenage Mutant Ninja Turtles     NL  $135,265,915   \n",
       "\n",
       "  Theaters      Opening Opening Theaters  Year  \\\n",
       "0    2,173  $17,081,997            1,202  1990   \n",
       "1    1,766  $12,191,540            1,101  1990   \n",
       "2    1,636     $598,257               14  1990   \n",
       "3    1,811  $11,280,591            1,325  1990   \n",
       "4    2,377  $25,398,367            2,006  1990   \n",
       "\n",
       "                                        link  \n",
       "0                  /movies/?id=homealone.htm  \n",
       "1                      /movies/?id=ghost.htm  \n",
       "2           /movies/?id=danceswithwolves.htm  \n",
       "3                /movies/?id=prettywoman.htm  \n",
       "4  /movies/?id=teenagemutantninjaturtles.htm  "
      ]
     },
     "execution_count": 16,
     "metadata": {},
     "output_type": "execute_result"
    }
   ],
   "source": [
    "top_100.head()"
   ]
  },
  {
   "cell_type": "code",
   "execution_count": 17,
   "metadata": {},
   "outputs": [],
   "source": [
    "# Remove unwanted columns\n",
    "studio_100 = top_100.drop(['Rank', 'Title', 'Unnamed: 0', 'Theaters', 'Opening', 'Opening Theaters', 'link'], axis=1)"
   ]
  },
  {
   "cell_type": "code",
   "execution_count": 18,
   "metadata": {},
   "outputs": [],
   "source": [
    "df = studio_100.groupby([\"Year\", \"Studio\"]).count()"
   ]
  },
  {
   "cell_type": "code",
   "execution_count": 19,
   "metadata": {},
   "outputs": [],
   "source": [
    "# Remove commas and dollars signs\n",
    "studio_100[\"Studio\"] = studio_100[\"Studio\"].replace(\"Col.\", \"Sony\")\n",
    "studio_100[\"Studio\"] = studio_100[\"Studio\"].replace(\"WB (NL)\", \"WB\")\n",
    "studio_100[\"Studio\"] = studio_100[\"Studio\"].replace(\"FoxA\", \"Fox\")\n",
    "studio_100[\"Studio\"] = studio_100[\"Studio\"].replace(\"FoxS\", \"Fox\")\n",
    "studio_100[\"Total Gross\"] = studio_100[\"Total Gross\"].str.replace(\",\", \"\")\n",
    "studio_100[\"Total Gross\"] = studio_100[\"Total Gross\"].str.replace(\"$\", \"\")\n",
    "studio_100[\"Total Gross\"] = studio_100[\"Total Gross\"].astype(int)\n",
    "studio_100.columns = [\"Studio\", \"Studio_Gross\", \"Year\"]"
   ]
  },
  {
   "cell_type": "code",
   "execution_count": 20,
   "metadata": {},
   "outputs": [
    {
     "data": {
      "text/html": [
       "<div>\n",
       "<style scoped>\n",
       "    .dataframe tbody tr th:only-of-type {\n",
       "        vertical-align: middle;\n",
       "    }\n",
       "\n",
       "    .dataframe tbody tr th {\n",
       "        vertical-align: top;\n",
       "    }\n",
       "\n",
       "    .dataframe thead th {\n",
       "        text-align: right;\n",
       "    }\n",
       "</style>\n",
       "<table border=\"1\" class=\"dataframe\">\n",
       "  <thead>\n",
       "    <tr style=\"text-align: right;\">\n",
       "      <th></th>\n",
       "      <th></th>\n",
       "      <th>Studio_Gross</th>\n",
       "    </tr>\n",
       "    <tr>\n",
       "      <th>Year</th>\n",
       "      <th>Studio</th>\n",
       "      <th></th>\n",
       "    </tr>\n",
       "  </thead>\n",
       "  <tbody>\n",
       "    <tr>\n",
       "      <th rowspan=\"5\" valign=\"top\">1990</th>\n",
       "      <th>BV</th>\n",
       "      <td>683431384</td>\n",
       "    </tr>\n",
       "    <tr>\n",
       "      <th>Fox</th>\n",
       "      <td>668375058</td>\n",
       "    </tr>\n",
       "    <tr>\n",
       "      <th>Gold.</th>\n",
       "      <td>14560247</td>\n",
       "    </tr>\n",
       "    <tr>\n",
       "      <th>MGM</th>\n",
       "      <td>61264584</td>\n",
       "    </tr>\n",
       "    <tr>\n",
       "      <th>Mira.</th>\n",
       "      <td>25437170</td>\n",
       "    </tr>\n",
       "  </tbody>\n",
       "</table>\n",
       "</div>"
      ],
      "text/plain": [
       "             Studio_Gross\n",
       "Year Studio              \n",
       "1990 BV         683431384\n",
       "     Fox        668375058\n",
       "     Gold.       14560247\n",
       "     MGM         61264584\n",
       "     Mira.       25437170"
      ]
     },
     "execution_count": 20,
     "metadata": {},
     "output_type": "execute_result"
    }
   ],
   "source": [
    "# Get total gross for each studio per year\n",
    "grouped_100 = studio_100.groupby([\"Year\", \"Studio\"]).sum()\n",
    "grouped_100.head()"
   ]
  },
  {
   "cell_type": "code",
   "execution_count": 21,
   "metadata": {},
   "outputs": [],
   "source": [
    "df.reset_index(inplace=True)"
   ]
  },
  {
   "cell_type": "code",
   "execution_count": 22,
   "metadata": {},
   "outputs": [
    {
     "data": {
      "text/plain": [
       "Index(['Year', 'Studio', 'Total Gross'], dtype='object')"
      ]
     },
     "execution_count": 22,
     "metadata": {},
     "output_type": "execute_result"
    }
   ],
   "source": [
    "df.columns"
   ]
  },
  {
   "cell_type": "code",
   "execution_count": 23,
   "metadata": {},
   "outputs": [],
   "source": [
    "# Save the sql file\n",
    "import sqlite3\n",
    "conn = sqlite3.connect(\"dataset/market_share.sqlite\")\n",
    "grouped_100.to_sql(\"Studio\", con=conn, index=True, if_exists=\"replace\")"
   ]
  },
  {
   "cell_type": "code",
   "execution_count": 24,
   "metadata": {},
   "outputs": [
    {
     "data": {
      "text/html": [
       "<div>\n",
       "<style scoped>\n",
       "    .dataframe tbody tr th:only-of-type {\n",
       "        vertical-align: middle;\n",
       "    }\n",
       "\n",
       "    .dataframe tbody tr th {\n",
       "        vertical-align: top;\n",
       "    }\n",
       "\n",
       "    .dataframe thead th {\n",
       "        text-align: right;\n",
       "    }\n",
       "</style>\n",
       "<table border=\"1\" class=\"dataframe\">\n",
       "  <thead>\n",
       "    <tr style=\"text-align: right;\">\n",
       "      <th></th>\n",
       "      <th>Total_Yearly_Gross</th>\n",
       "    </tr>\n",
       "    <tr>\n",
       "      <th>Year</th>\n",
       "      <th></th>\n",
       "    </tr>\n",
       "  </thead>\n",
       "  <tbody>\n",
       "    <tr>\n",
       "      <th>1990</th>\n",
       "      <td>4201762579</td>\n",
       "    </tr>\n",
       "    <tr>\n",
       "      <th>1991</th>\n",
       "      <td>4013340886</td>\n",
       "    </tr>\n",
       "    <tr>\n",
       "      <th>1992</th>\n",
       "      <td>4338501242</td>\n",
       "    </tr>\n",
       "    <tr>\n",
       "      <th>1993</th>\n",
       "      <td>4493750447</td>\n",
       "    </tr>\n",
       "    <tr>\n",
       "      <th>1994</th>\n",
       "      <td>4609740780</td>\n",
       "    </tr>\n",
       "  </tbody>\n",
       "</table>\n",
       "</div>"
      ],
      "text/plain": [
       "      Total_Yearly_Gross\n",
       "Year                    \n",
       "1990          4201762579\n",
       "1991          4013340886\n",
       "1992          4338501242\n",
       "1993          4493750447\n",
       "1994          4609740780"
      ]
     },
     "execution_count": 24,
     "metadata": {},
     "output_type": "execute_result"
    }
   ],
   "source": [
    "# Get total gross for the entire year\n",
    "yearly_gross = grouped_100.groupby(['Year']).sum()\n",
    "yearly_gross.columns = [\"Total_Yearly_Gross\"]\n",
    "yearly_gross.head()"
   ]
  },
  {
   "cell_type": "code",
   "execution_count": 25,
   "metadata": {},
   "outputs": [],
   "source": [
    "# Save the sql file\n",
    "yearly_gross.to_sql(\"market_share\", con=conn, index=True)"
   ]
  },
  {
   "cell_type": "code",
   "execution_count": 26,
   "metadata": {},
   "outputs": [],
   "source": [
    "# Save as CSV file\n",
    "yearly_gross.to_csv(\"dataset/yearly_gross.csv\")\n",
    "grouped_100.to_csv('dataset/studio.csv')"
   ]
  }
 ],
 "metadata": {
  "kernelspec": {
   "display_name": "Python 3",
   "language": "python",
   "name": "python3"
  },
  "language_info": {
   "codemirror_mode": {
    "name": "ipython",
    "version": 3
   },
   "file_extension": ".py",
   "mimetype": "text/x-python",
   "name": "python",
   "nbconvert_exporter": "python",
   "pygments_lexer": "ipython3",
   "version": "3.6.5"
  }
 },
 "nbformat": 4,
 "nbformat_minor": 2
}
