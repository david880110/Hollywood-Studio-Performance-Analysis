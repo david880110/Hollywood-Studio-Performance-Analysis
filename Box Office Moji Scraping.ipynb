{
 "cells": [
  {
   "cell_type": "code",
   "execution_count": 16,
   "metadata": {},
   "outputs": [],
   "source": [
    "import pandas as pd\n",
    "from bs4 import BeautifulSoup\n",
    "from urllib.request import urlopen\n",
    "import requests\n",
    "import os"
   ]
  },
  {
   "cell_type": "code",
   "execution_count": 17,
   "metadata": {},
   "outputs": [],
   "source": [
    "def box_office_mojo_compile(year):\n",
    "    url = 'http://www.boxofficemojo.com/yearly/chart/?yr='+str(year)\n",
    "    html = urlopen(url) #get_request\n",
    "    soup = BeautifulSoup(html,\"lxml\")\n",
    "    empty = []\n",
    "    for i in soup.find_all('table')[6]:\n",
    "        empty.append(i.find_all('td'))\n",
    "        \n",
    "    new_empty = []\n",
    "    for x in range(1,101):\n",
    "        empty2 = []\n",
    "        for x2 in range(0,7):\n",
    "            empty2.append(empty[x][x2].text)\n",
    "        year_frame = pd.DataFrame([empty2],\n",
    "                                  columns=['Rank','Title','Studio','Total Gross','Theaters','Opening','Opening Theaters'])\n",
    "        year_frame['Year']=year\n",
    "        year_frame['Rank']=year_frame['Rank'].astype('int')\n",
    "        year_frame['link']=empty[x][1].find('a').get('href')\n",
    "        new_empty.append(year_frame)\n",
    "    return pd.concat(new_empty)\n",
    "\n",
    "def top_actors(movie):\n",
    "    url = 'http://www.boxofficemojo.com'+movie\n",
    "    html = urlopen(url) #get_request\n",
    "    \n",
    "    soup = BeautifulSoup(html,\"lxml\")\n",
    "    body = soup.find(\"div\",{\"id\":\"body\"})\n",
    "    table1 = body.find(\"table\")\n",
    "    \n",
    "    \n",
    "    cast_crew = []\n",
    "    for x in table1.findAll('font'):\n",
    "        cast_crew.append(x.getText())\n",
    "    \n",
    "    frame = pd.DataFrame(cast_crew)\n",
    "    return frame.loc[frame[frame[0].str.contains('Actor')].index[0]+1].values[0]"
   ]
  },
  {
   "cell_type": "code",
   "execution_count": 18,
   "metadata": {},
   "outputs": [],
   "source": [
    "all_years = []\n",
    "for x in range(1990,2018):\n",
    "    all_years.append(box_office_mojo_compile(x))\n",
    "all_year = pd.concat(all_years)\n",
    "\n",
    "#top 5\n",
    "top_5_by_year =all_year[all_year['Rank']<=5].reset_index(drop=True)"
   ]
  },
  {
   "cell_type": "code",
   "execution_count": null,
   "metadata": {},
   "outputs": [],
   "source": [
    "empty = []\n",
    "for title,link in zip(top_5_by_year['Title'],top_5_by_year['link']):\n",
    "    try: \n",
    "        empty.append(top_actors(link))\n",
    "    except:\n",
    "        empty.append(\"ERROR FOR: \"+title)\n",
    "    \n",
    "top_5_by_year['Actors']=empty"
   ]
  },
  {
   "cell_type": "code",
   "execution_count": null,
   "metadata": {},
   "outputs": [],
   "source": [
    "all_year.to_csv('dataset/top_100_movies.csv')\n",
    "top_5_by_year.to_csv('dataset/top_5_movies.csv')"
   ]
  },
  {
   "cell_type": "code",
   "execution_count": null,
   "metadata": {},
   "outputs": [],
   "source": []
  }
 ],
 "metadata": {
  "kernelspec": {
   "display_name": "Python 3",
   "language": "python",
   "name": "python3"
  },
  "language_info": {
   "codemirror_mode": {
    "name": "ipython",
    "version": 3
   },
   "file_extension": ".py",
   "mimetype": "text/x-python",
   "name": "python",
   "nbconvert_exporter": "python",
   "pygments_lexer": "ipython3",
   "version": "3.6.5"
  }
 },
 "nbformat": 4,
 "nbformat_minor": 2
}
